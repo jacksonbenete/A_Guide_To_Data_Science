{
 "cells": [
  {
   "cell_type": "markdown",
   "metadata": {},
   "source": [
    "# Referências"
   ]
  },
  {
   "cell_type": "markdown",
   "metadata": {},
   "source": [
    "-  Principles of Data Science - Sinan Ozdemir\n",
    "-  Practical Data Science — Andreas François Vermeulen\n",
    "-  The Data Science Handbook - Field Cady\n",
    "-  Introduction to Data Mining - Pang-Ning Tan, Michael Steinbach, Vipin Kumar"
   ]
  },
  {
   "cell_type": "markdown",
   "metadata": {},
   "source": [
    "### Dados"
   ]
  },
  {
   "cell_type": "markdown",
   "metadata": {},
   "source": [
    "Dados podem se encontrar de forma *organizada* onde linhas representam observações/entidades e colunas represetam características. Essa forma é representada por uma tabela ou matriz, e assim como uma matriz ela pode ser transposta onde as colunas representarão observações e linhas representarão as características.\n",
    "\n",
    "Note que utilizamos o conceito de matriz que pode ser estudada em álgebra linear. Em Data Science você utilizará muitos conceitos matemáticos relacionados à álgebra linear, estatística e cálculo por exemplo, mas este documento tem a intenção de ensiná-los (e também ao autor) todos os conceitos necessários e relacionados com a ciência de dados. Os conhecimentos básicos necessários como os de álgebra, estatística, cálculo e algoritmos estarão em capítulos simbolizados por letras ao invés de números, como por exemplo os capítulo A (ou A1, A2, etc) que corresponde ao capítulo dedicado ao ensino e aprendizagem de álgebra linear."
   ]
  },
  {
   "cell_type": "markdown",
   "metadata": {},
   "source": [
    "### Amostragem"
   ]
  },
  {
   "cell_type": "markdown",
   "metadata": {},
   "source": [
    "Amostragem é o processo de selecionar subconjuntos de dados para diminuir o volume para processamento. Se a amostra selecionada for representativa então ela funcionará tão bem quanto a utilização do conjunto inteiro de dados que poderia facilmente ultrapassar milhões de linhas em uma matriz ou tabela.\n",
    "\n",
    "A literatura traz diversas técnicas em relação à amostragem, definiremos aqui algumas e posteriormente introduziremos outras. *#(Ou este mesmo trecho/capítulo será editado)*\n",
    "\n",
    "#### Amostragem aleatória simples \n",
    "(sem substituição e com substituição)\n",
    "\n",
    "#### Amostragem estratificada\n",
    "\n",
    "#### Tamanho da amostra\n",
    "\n",
    "#### Amostragem progressiva\n",
    "Consiste em fazer várias amostragens de tamanho cada vez maior e escolher o mais apropriado. \n",
    "\n",
    "É preciso parar pois em determinado momento o aumento de tamanho já não implica em aumento de exatidão.\n",
    "\n",
    "#### Redução de dimensionalidade\n",
    "A redução da dimensionalidade pode eliminar características irrelevantes e reduzir ruídos.\n",
    "\n",
    "Isso pode ser feito distribuindo-se pesos para os atributos em grau de importância, também pode ser feito através da discretização que consiste em transformar atributos contínuos em discretos ou mesmo binarização que seria a transformação de atributos contínuos ou discretos em um ou mais atributos binários de acordo com o necessário."
   ]
  },
  {
   "cell_type": "markdown",
   "metadata": {},
   "source": [
    "#### Discretização supervisionada\n",
    "*#(Necessário pesquisar melhor sobre discretiação supervisionada e entropia)*\n",
    "\n",
    "##### Entropia do intervalo\n",
    "\n",
    "$$ e_i = \\sum_{i = 1}^{k} p_{ij} log_2p_{ij} $$\n",
    "\n",
    "Onde $k$ = número de classes, $m_i$ = valores no intervalo i, $m_{ij}$ = valores da classe j no intervalo i e $i$ = índice. Seja $p_{ij} = \\frac{m_{ij}}{m_i} $ a probabilidade da classe j no intervalo de índice i.\n",
    "\n",
    "##### Entropia total\n",
    "\n",
    "$$ e = \\sum_{i = 1}^{n} w_ie_i $$\n",
    "\n",
    "Onde $n$ = número de intervalos, $m$ = número de valores e $w_i = \\frac{m_i}{m}$$ a fração dos valores no intervalo de índice 1."
   ]
  }
 ],
 "metadata": {
  "kernelspec": {
   "display_name": "Julia 0.6.1",
   "language": "julia",
   "name": "julia-0.6"
  },
  "language_info": {
   "file_extension": ".jl",
   "mimetype": "application/julia",
   "name": "julia",
   "version": "0.6.1"
  }
 },
 "nbformat": 4,
 "nbformat_minor": 2
}
