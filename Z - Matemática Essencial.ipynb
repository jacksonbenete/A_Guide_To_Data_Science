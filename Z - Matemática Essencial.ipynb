{
 "cells": [
  {
   "cell_type": "markdown",
   "metadata": {},
   "source": [
    "# Matemática Essencial"
   ]
  },
  {
   "cell_type": "markdown",
   "metadata": {},
   "source": [
    "## Introdução"
   ]
  },
  {
   "cell_type": "markdown",
   "metadata": {},
   "source": [
    "Finalmente você chegou ao ensino superior ou onde quer que você esteja e descobriu que não sabe matemática!\n",
    "\n",
    "A situação é muito pior do que geralmente se tem conhecimento, a não ser que você seja ou já tenha sido professor não terá visto casos impressionantes com relação a dificuldades ou total desconhecimento desta e de outras disciplinas essenciais.\n",
    "\n",
    "Eu convido a você a ler este Apêndice sempre que se deparar com algum problema em matemática básica, ou a lê-lo por completo caso você descubra dificuldades mesmo em conceitos básicos. Você poderia (e na opinião de alguns deveria) ser capaz de realizar operações sem o uso de uma calculadora para o bem de suas própria sobrevivência, mas se você ainda não for capaz de realizar uma divisão com ou ser vírgula (casas decimais) sem precisar recorrer a uma calculadora acredito que você deveria parar um pouco para avaliar sua situação atual.\n",
    "\n",
    "Talvez você não goste de estudar (ou acredite que não), talvez você não veja utilidade para nenhuma dessas coisas ou talvez você apenas ache difícil e isto lhe traga desânimo. Se você não gosta de estudar você pode estar apenas confundindo sentimentos, o cérebro é absolutamente seletivo, se fizer uma avaliação cautelosa sobre como você utiliza seu dia poderá se deparar com horas de navegação pela internet, pesquisas aleatórias no Google e diversas atividades rotineiras que em determinados aspectos poderiam ser consideradas estudos. Só porque você passar horas pesquisando sobre sua série favorita ao invés de passar horas lendo um livro de Geografia não significa que você não esteja estudando, pode significar apenas que você esteja estudando algo que não será cobrado mas não se engane achando que isso também não é uma forma de estudo só porque não é chato. Do mesmo modo que você se diverte pesquisando ou fazendo algo que gosta, se as disciplinas do colégio não tivessem sido apresentadas de maneira desastrosa talvez você pudesse se divertir com elas também.\n",
    "\n",
    "O problema com essas disciplinas geralmente é má apresentação ou uma exagerada importância para detalhes que poderiam ser evitados ou totalmente irrelevantes no momento. Nenhuma disciplina é inútil, no entanto alguns conteúdos não precisam ser vistos ou estudados em determinados momentos da vida.\n",
    "\n",
    "O conteúdo à seguir apresentará o essencial da Matemática para lhe recuperar o \"tempo perdido\" ou para tirá-lo da situação de desespero e sentimento de inutilidade ou incompetência quanto ao assunto. A matemática é extremamente difícil se for mal ensinada ou mal apresentada, portanto se após ler este material você não tiver aprendido por favor entre em contato com suas dúvidas e reclamações para que o material possa ser repensado. Mas você não deve parar caso algo esteja começando a ficar difícil, estudos mostram que um determinado nível e estágio de confusão mental se inicia na cabeça do aluno momentos antes de ele efetivamente entender o assunto! Isso se dá por um estado onde seu cérebro está trabalhando para realizar novas conexões neurais e consolidar o conhecimento em sua cabeça, a impressão de confusão e dificuldade é decorrente do processo de criação de novas redes neurais e não decorrente de você não estar entendendo ou aprendendo.\n",
    "\n",
    "Portanto, vá com calma e não se apresse, aprenda os conteúdos pelo entendimento e não por memorização."
   ]
  },
  {
   "cell_type": "markdown",
   "metadata": {},
   "source": [
    "## O Básico"
   ]
  },
  {
   "cell_type": "markdown",
   "metadata": {},
   "source": [
    "Se você acha que não precisa ler nada disso porque sabe somar, talvez esteja enganado. Não quero dizer que você não sabe somar (embora alguns alunos do ensino médio surpreendentemente não saibam de fato), mas a grande dificuldade encontrada no ensino superior ou em assuntos mais complexos está na deficiência do básico, portanto leia tudo com calma e você terá seu Phd em Matemática mesmo que não queira, é um processo automático de leitura deste livro."
   ]
  },
  {
   "cell_type": "markdown",
   "metadata": {},
   "source": [
    "## Números"
   ]
  },
  {
   "cell_type": "markdown",
   "metadata": {},
   "source": [
    "Números são símbolos que servem como representação para expressar quantidades e volumes. É um conceito trivial, você precisa saber contar para viver normalmente e você o faz mesmo sem saber que está fazendo. Alguns pedreiros e mestres de obra executam cálculos geométricos sem saber que o fazem, cálculos esses que alguns alunos do primeiro ano de engenharia as vezes não conseguem.\n",
    "\n",
    "A soma representada pelo símbolo $+$ é uma ferramenta utilizada para agrupar quantidades. Os símbolos seguem uma progressão, indo do zero ao infinito. Infinito não é um número, mas apenas uma representação de que não há fim no conjunto numérico.\n",
    "\n",
    "A progressão deve soar familiar para você, ela segue no seguinte padrão: $0, 1, 2, 3, 4, 5, 6, 7, 8, 9, 10, 11, 12, ...$\n",
    "\n",
    "O número 0 (zero) representa a ausência, não ter uma caneta em mãos significa ter zero caneta em mãos. O número 1 (um) representa a presença de algo.\n",
    "\n",
    "### Soma\n",
    "\n",
    "Qualquer número *somado* ao número 1 resultará no próximo número da sequência que vimos, logo, seja a sequência $0, 1, 2, 3, 4, 5, 6, 7, 8, 9, 10, 11, 12, ...$, somar $0 + 1$ significar andar *uma casa* na sequência à partir do zero. \n",
    "\n",
    "$0 + 1 = 1$, $1 + 1 = 2$ pois eu estou andando uma casa na sequência à partir do número 1. \n",
    "\n",
    "$5 + 1 = 6$, e assim por diante. Você deve ser capaz de perceber a progressão.\n",
    "\n",
    "### Subtração\n",
    "\n",
    "Para cada elemento do conjunto numérico teremos também um elemento *oposto* simbolizado por $-$, o símbolo significa andar para trás na sequência numérica, analogamente ao que vimos com a soma. Dessa forma, dada a sequência $0, 1, 2, 3, 4, 5, 6, 7, 8, 9, 10, 11, 12, ...$, subtrair $1 - 1$ significa *andar* uma casa para trás à partir do número 1, de modo que $1 - 1 = 0$. Subtraindo à partir do zero começaremos a obter a sequência oposta, veja à seguir:\n",
    "\n",
    "$$0, 1, 2, ...$$\n",
    "$$-1, 0, 1, 2, ...$$\n",
    "$$-2, -1, 0, 1, 2, ...$$\n",
    "$$-3, -2, -1, 0, 1, 2, ...$$\n",
    "$$..., -3, -2, -1, 0, 1, 2, ...$$\n",
    "\n",
    "A subtração portanto não é uma segunda operação matemática como algo novo e distinto, uma subtração é a soma pelo oposto de um número, por isso quando você vê operações do tipo $2 + (-1)$ significa subtrair 2 por 1, pois você está justamente somando pelo oposto de modo que escrever $2 - 1$ e $2 + (-1)$ significa a mesma coisa.\n",
    "\n",
    "Adicionando os elementos opostos a nossa sequência como acabamos de fazer em $..., -3, -2, -1, 0, 1, 2, ...$ implica na criação de um novo conjunto numérico. O termo *conjunto* significa agrupar algo em um espaço, organizar ou juntar elementos com características relacionadas por algum parâmetro. Veremos mais adiante a *\"criação\"* de diferentes números, como números decimais, incluir essas novas representações também originará novas sequências que chamamos conjunto. Tem-se para diferentes conjuntos a utilização de diferentes nomes, como \"conjunto dos números reais\" representado pela letra $R$, \"conjunto dos números inteiros\" representado pela letra $Z$, etc. Mas não devemos nos importar com isso agora, lembre-se que o que torna um curso de matemática difícil e incompreensível é a introdução de diversos conceitos não utilizados ou que não demonstrar aplicação prática imediata, não queremos fazer isso."
   ]
  }
 ],
 "metadata": {
  "kernelspec": {
   "display_name": "Julia 0.6.1",
   "language": "julia",
   "name": "julia-0.6"
  },
  "language_info": {
   "file_extension": ".jl",
   "mimetype": "application/julia",
   "name": "julia",
   "version": "0.6.1"
  }
 },
 "nbformat": 4,
 "nbformat_minor": 2
}
