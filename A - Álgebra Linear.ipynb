{
 "cells": [
  {
   "cell_type": "markdown",
   "metadata": {},
   "source": [
    "## Introdução"
   ]
  },
  {
   "cell_type": "markdown",
   "metadata": {},
   "source": [
    "Este capítulo e seus capítulos subsequentes (A1, A2, etc) são dedicados ao ensino e aprendizagem de Álgebra Linear."
   ]
  },
  {
   "cell_type": "markdown",
   "metadata": {},
   "source": [
    "#### Recursos utilizados:\n",
    "\n",
    "- Álgebra linear e suas aplicações - Gilbert Strang\n",
    "\n",
    "- Álgebra Linear - Aula 6 - CEDERJ: http://www.dcc.ufrj.br/~rincon/Disciplinas/Algebra%20Linear/Aula_006.pdf"
   ]
  },
  {
   "cell_type": "markdown",
   "metadata": {},
   "source": [
    "### Explicação Inicial"
   ]
  },
  {
   "cell_type": "markdown",
   "metadata": {},
   "source": [
    "A álgebra linear é uma ferramenta útil que pode ser aplicada de diversas formas em diversas áreas, especialmente ao se trabalhar com alta complexidade ou alta densidade de informações. Por exemplo, você pode ser capaz de resolver uma equação linear ou um sistema de equações lineares facilmente se ele possuir apenas duas ou três linhas (equações). Mas quando se trabalha com exemplos de aplicações reais o nível de complexidade, a densidade de informações e o número de variáveis é muito grande, você pode resolver facilmente um sistema com duas variáveis mas não conseguirá resolver um sistema de dez ou mais variáveis.\n",
    "\n",
    "A álgebra linear também pode ser utilizada ao se trabalhar com superfícies curvas, adaptando a superfície a um plano ou substituindo a curva por uma reta tangente linearizará o problema possibilitando sua resolução com o uso da álgebra linear.\n",
    "\n",
    "Sejam dois vetores $v$ e $w$ apontando para direções diferentes.\n",
    "\n",
    "Todas as combinações lineares desses dois vetores formam um plano."
   ]
  },
  {
   "cell_type": "markdown",
   "metadata": {},
   "source": [
    "<img src=\"img/A/a_1.jpg\"></img>"
   ]
  },
  {
   "cell_type": "markdown",
   "metadata": {},
   "source": [
    "Se a equação linear $cv + dw = b$ puder ser resolvida, ou seja, se a equação possui solução significa que o vetor $b$ se localiza no mesmo plano em que $v$ e $w$.\n",
    "\n",
    "Se esta explicação ainda não é razoável para você, será necessário um estudo sobre vetores (geometria analítica) e talvez um aprofundamento na disciplina de álgebra linear. Embora pretendemos ensinar o necessário de álgebra e de outras competências, este livro não é um livro de matemática teórica e não visa se aprofundar nos conceitos. No entanto deixe-nos saber de sua dificuldade e faremos o possível para modificar o modo de explicação, adicionar exemplos ou capítulos.\n",
    "\n",
    "De modo simples, um vetor é uma estrutura que não pode ser descrita apenas por uma grandeza escalar. Você pode dizer que um determinado objeto possui 30ºC de temperatura, mas se você estiver tratando de movimento dizer apenas a velocidade pode não ser suficiente, portanto um vetor é uma estrutura que armazena mais de uma informação (propriedade ou característica) relacionadas ao mesmo objeto, definindo um vetor para movimento você poderia informar a velocidade, direção e sentido, por exemplo."
   ]
  },
  {
   "cell_type": "markdown",
   "metadata": {},
   "source": [
    "## Álgebra Linear"
   ]
  },
  {
   "cell_type": "markdown",
   "metadata": {},
   "source": [
    "Sejam os vetoes $v = (1,2,3)$ e $w = (1,3,4)$, caso você não esteja familiarizado com vetores, os números separados por vírgulas dentro da estrutura do vetor (entre parênteses) determinam as coordenadas do vetor, isso é, suas posições no eixo x, y e z de um plano. Novamente, caso não esteja familiarizado sugiro um estudo de geometria analítica em algum capítulo ou apêndice deste ou em outros livros antes de continuar."
   ]
  },
  {
   "cell_type": "markdown",
   "metadata": {},
   "source": [
    "Podemos posicionar esses dois vetores em uma matriz da forma:"
   ]
  },
  {
   "cell_type": "markdown",
   "metadata": {},
   "source": [
    "<img src=\"img/A/a_2.jpg\"></img>"
   ]
  },
  {
   "cell_type": "markdown",
   "metadata": {},
   "source": [
    "<img src=\"img/A/a_3.jpg\"></img>"
   ]
  },
  {
   "cell_type": "markdown",
   "metadata": {},
   "source": [
    "Ou seja, cada vetor se transforma em uma coluna da matriz.\n",
    "\n",
    "Definir uma matriz $A$ com $m$ colunas e $n$ linhas ou seja, $A_{m\\times n}$, significa dizer que a álgebra linear aponta para $n$ vetores em um espaço de $m$ dimensões. Acabamos de demonstrar nas ilustrações acima que você escreve um vetor em uma matriz como uma coluna, então é razoável a definição acima que diz *\"$n$ vetores\"*... A mesma coisa podemos dizer sobre as linhas, dissemos que os valores dos vetores (cada valor em uma linha) determinam as coordenadas (dimensões).\n",
    "\n",
    "Se você olhar com carinho, perceberá que um vetor é na verdade uma matriz $1\\times n$ ou $m\\times 1$.\n",
    "\n",
    "$$v = \\begin{bmatrix} 1 & 2 & 3 \\end{bmatrix}$$\n",
    "\n",
    "$$v = \\begin{bmatrix} 1 \\\\ 2 \\\\ 3 \\end{bmatrix}$$"
   ]
  },
  {
   "cell_type": "markdown",
   "metadata": {},
   "source": [
    "Para produzir um sistema linear produzimos sempre $m$ equações, ou seja, uma equação para cada linha."
   ]
  },
  {
   "cell_type": "markdown",
   "metadata": {},
   "source": [
    "Vamos avançar um pouco e já definir o processo de multiplicação de matrizes.\n",
    "\n",
    "Para multiplicar uma matriz $A$ e uma matriz $B$, o número de colunas de $A$ deve ser igual ao número de linhas de $B$.\n",
    "Isso resultará em uma matriz bem característica onde o inverso acontece, a matriz resultante $AB$ terá o número de linhas de $A$ e o número de colunas de $B$.\n",
    "\n",
    "$$A_{m\\times p} B_{p\\times n} = AB_{m \\times n}$$"
   ]
  },
  {
   "cell_type": "markdown",
   "metadata": {},
   "source": [
    "<img src=\"img/A/a_4.jpg\"></img>"
   ]
  },
  {
   "cell_type": "markdown",
   "metadata": {},
   "source": [
    "<img src=\"img/A/a_5.jpg\"></img>"
   ]
  },
  {
   "cell_type": "markdown",
   "metadata": {},
   "source": [
    "Para encontrar combinações como fizemos usando equações lineares, multiplicamos a matriz por um vetor contendo as variáveis. Ou seja, podemos escrever: \n",
    "$$cv + dw = b$$\n",
    "\n",
    "Como uma combinação linear:\n",
    "\n",
    "$$\\begin{bmatrix} 1 & 1 \\\\ 2 & 3 \\\\ 3 & 4 \\end{bmatrix} \\begin{bmatrix} c \\\\ d \\end{bmatrix} = c \\begin{bmatrix} 2 \\\\ 5 \\\\ 7 \\end{bmatrix}$$\n",
    "\n",
    "O que poderia também ser escrito na forma de equações lineares:\n",
    "\n",
    "$$ c + d = 2 \\\\ 2c + 3d = 5 \\\\ 3c + 4d = 7 $$"
   ]
  },
  {
   "cell_type": "markdown",
   "metadata": {},
   "source": [
    "Essas combinações preenchem um *espaço vetorial* chamado de *espaço-coluna* o que significa dizer que para essas duas colunas o espaço é um *plano*. Como definido por Gilbert Strang, podemos destacar quatro idéias centrais:\n",
    "\n",
    "- Espaço-coluna: São todas as combinações entre as colunas.\n",
    "- Espaço-linha: São todas as combinações entre as linhas.\n",
    "- Posto: Representa o número de colunas ou linhas independentes.\n",
    "- Eliminação: Um \"bom modo\" (simples e rápido) de se encontrar o posto de uma matriz.\n",
    "\n",
    "Diante da idéia de *posto*, precisamos entender o que significa *independência linear*."
   ]
  },
  {
   "cell_type": "markdown",
   "metadata": {},
   "source": [
    "### Significa de Independência"
   ]
  },
  {
   "cell_type": "markdown",
   "metadata": {},
   "source": [
    "Seja a matriz:\n",
    "\n",
    "$$ A = \\begin{bmatrix} 1 & 1 & 2 \\\\ 1 & 2 & 3 \\\\ 1 & 3 & 4 \\end{bmatrix}$$\n",
    "\n",
    "Definiremos que A não possui colunas independentes pois podemos verificar que a soma da coluna 1 com a coluna 2 é igual a coluna 3. Perceba:\n",
    "\n",
    "$$ A = \\begin{bmatrix} 1 & + & 1 & = & 2 \\\\ 1 & + & 2 & = & 3 \\\\ 1 & + & 3 & = & 4 \\end{bmatrix}$$"
   ]
  },
  {
   "cell_type": "markdown",
   "metadata": {},
   "source": [
    "Também definiremos que A não possui linhas independentes pois alguma combinação das linhas 1 e 2 produz a linha 3, à saber conseguimos resolver por *substituição* onde $2L_2 - L_1 = L_3$."
   ]
  },
  {
   "cell_type": "markdown",
   "metadata": {},
   "source": [
    "### O que te espera"
   ]
  },
  {
   "cell_type": "markdown",
   "metadata": {},
   "source": [
    "O próximo capítulo (A1) tratará de uma interpretação geométrica da álgebra linear e iniciará o ensino da álgebra linear propriamente dita. É necessário que se tenha uma noção mínima de geometria analítica, saber o que é um sistema cartesiano e o que é um vetor no espaço cartesiano. Se os termos *plano* e *segmento de reta* não forem muito familiares ou não fizerem muito sentido a você é necessário adquiri-los."
   ]
  }
 ],
 "metadata": {
  "kernelspec": {
   "display_name": "Julia 0.6.1",
   "language": "julia",
   "name": "julia-0.6"
  },
  "language_info": {
   "file_extension": ".jl",
   "mimetype": "application/julia",
   "name": "julia",
   "version": "0.6.1"
  }
 },
 "nbformat": 4,
 "nbformat_minor": 2
}
