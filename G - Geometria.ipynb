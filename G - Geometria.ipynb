{
 "cells": [
  {
   "cell_type": "markdown",
   "metadata": {},
   "source": [
    "# Geometria"
   ]
  },
  {
   "cell_type": "markdown",
   "metadata": {},
   "source": [
    "## Introdução"
   ]
  },
  {
   "cell_type": "markdown",
   "metadata": {},
   "source": [
    "Acreditando ser de extrema importância e tendo o conhecimento da grande deficiência da maioria dos alunos, torna-se necessário o desenvolvimento de um Apêndice para preparar o aluno e pesquisador para o seu futuro na vida, em sua respectiva profissão ou no Data Science.\n",
    "\n",
    "Constantemente vejo alunos reclamando da intensa dificuldade no ensino aprendizagem de Geometria Analítica juntamente com convictas afirmações de sua inutilidade. É de fácil compreenção de que o aluno acredite ser chato e inútil tudo aquilo que lhe é difícil ou que lhe foi desastrosamente apresentado. Acreditamos que a dificuldade e resistência dos alunos a disciplinas como matemática, física e química se dão pela forma como os conteúdos são apresentados aprofundando-se em teorias desconexas e desnecessárias em determinados momentos. Nenhum conteúdo é inútil, mas ele torna-se inútil de fato se assim o aluno enxergá-lo, limitando sua progressão como um todo (em seu ser).\n",
    "\n",
    "O presente Apêndice apresenta o conteúdo de geometria de forma facilitada e visual, especialmente se o aluno possuir conhecimentos de algoritmos e programação, pode se tornar facilitado o aprendizado dos conceitos ao programá-los e vê-los em prática."
   ]
  }
 ],
 "metadata": {
  "kernelspec": {
   "display_name": "Julia 0.6.1",
   "language": "julia",
   "name": "julia-0.6"
  },
  "language_info": {
   "file_extension": ".jl",
   "mimetype": "application/julia",
   "name": "julia",
   "version": "0.6.1"
  }
 },
 "nbformat": 4,
 "nbformat_minor": 2
}
